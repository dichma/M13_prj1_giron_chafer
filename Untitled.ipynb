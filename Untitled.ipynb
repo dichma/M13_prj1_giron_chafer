{
 "cells": [
  {
   "cell_type": "markdown",
   "id": "356349ff",
   "metadata": {},
   "source": [
    "# Exercici 1"
   ]
  },
  {
   "cell_type": "code",
   "execution_count": 32,
   "id": "8a40cf57",
   "metadata": {},
   "outputs": [
    {
     "name": "stdout",
     "output_type": "stream",
     "text": [
      "18\n"
     ]
    }
   ],
   "source": [
    "a = 2\n",
    "b = 9\n",
    "\n",
    "multiplicacio = a*b\n",
    "suma = a+b \n",
    "\n",
    "if multiplicacio <= 1000: \n",
    "    print(multiplicacio) \n",
    "else: \n",
    "    print(suma)"
   ]
  },
  {
   "cell_type": "markdown",
   "id": "87bf2030",
   "metadata": {},
   "source": [
    "# Exercici 2"
   ]
  },
  {
   "cell_type": "code",
   "execution_count": 33,
   "id": "6d639e57",
   "metadata": {},
   "outputs": [
    {
     "name": "stdout",
     "output_type": "stream",
     "text": [
      "1,2,3,4,5,6,7,8,9,10,11,12,13,14,15,"
     ]
    }
   ],
   "source": [
    "i=0\n",
    "while (i <= 14):\n",
    "    i +=1\n",
    "    print (i, end=',')"
   ]
  },
  {
   "cell_type": "markdown",
   "id": "04130756",
   "metadata": {},
   "source": [
    "# Exercici 3"
   ]
  },
  {
   "cell_type": "code",
   "execution_count": 35,
   "id": "259078b4",
   "metadata": {},
   "outputs": [
    {
     "name": "stdout",
     "output_type": "stream",
     "text": [
      "1,2,3,4,5,6,7,8,9,10,11,12,13,14,15,"
     ]
    }
   ],
   "source": [
    "for i in range (1,16):\n",
    "    print (i, end=',')"
   ]
  },
  {
   "cell_type": "markdown",
   "id": "bf4ccfa6",
   "metadata": {},
   "source": [
    "# Exercici 4"
   ]
  },
  {
   "cell_type": "code",
   "execution_count": 1,
   "id": "0ca568e0",
   "metadata": {},
   "outputs": [
    {
     "name": "stdout",
     "output_type": "stream",
     "text": [
      "Introduce un número: 12\n",
      "78\n"
     ]
    }
   ],
   "source": [
    "num = int(input(\"Introduce un número: \"))\n",
    "print  (int ((num * (num+1)) /2))"
   ]
  },
  {
   "cell_type": "markdown",
   "id": "f3673e82",
   "metadata": {},
   "source": [
    "# Exercici 5"
   ]
  },
  {
   "cell_type": "code",
   "execution_count": 7,
   "id": "38e9cc55",
   "metadata": {},
   "outputs": [
    {
     "name": "stdout",
     "output_type": "stream",
     "text": [
      "Introduce un número: 5\n",
      "5 x 0 = 0\n",
      "5 x 1 = 5\n",
      "5 x 2 = 10\n",
      "5 x 3 = 15\n",
      "5 x 4 = 20\n",
      "5 x 5 = 25\n",
      "5 x 6 = 30\n",
      "5 x 7 = 35\n",
      "5 x 8 = 40\n",
      "5 x 9 = 45\n",
      "5 x 10 = 50\n"
     ]
    }
   ],
   "source": [
    "num = int(input(\"Introduce un número: \"))\n",
    "for i in range \n",
    "    res=i*num\n",
    "    print  ((\"%d x %d = %d\") % (num,i,res))\n"
   ]
  },
  {
   "cell_type": "markdown",
   "id": "d87ccd63",
   "metadata": {},
   "source": [
    "# Exercici 6"
   ]
  },
  {
   "cell_type": "code",
   "execution_count": 8,
   "id": "96e59a20",
   "metadata": {},
   "outputs": [
    {
     "name": "stdout",
     "output_type": "stream",
     "text": [
      "La llista és:  [20, 60, 80, 100]\n",
      "Els llenguatges invertits són:  [100, 80, 60, 20]\n"
     ]
    }
   ],
   "source": [
    "list=[20,60,80,100]\n",
    "print (\"La llista és: \", list)\n",
    "llenguatges_invertits=list[::-1]\n",
    "print(\"Els llenguatges invertits són: \", llenguatges_invertits)"
   ]
  },
  {
   "cell_type": "markdown",
   "id": "7c4b9e17",
   "metadata": {},
   "source": [
    "# Exercici 7"
   ]
  },
  {
   "cell_type": "code",
   "execution_count": 9,
   "id": "5515baf2",
   "metadata": {},
   "outputs": [
    {
     "name": "stdout",
     "output_type": "stream",
     "text": [
      "10\n"
     ]
    }
   ],
   "source": [
    "x = [1, 2, 3, 4, 5, 6, 7, 8, 9, 10]\n",
    "print (max(x))"
   ]
  },
  {
   "cell_type": "markdown",
   "id": "cd34d54d",
   "metadata": {},
   "source": [
    "# Exercici 8"
   ]
  },
  {
   "cell_type": "code",
   "execution_count": 15,
   "id": "2a1e853a",
   "metadata": {},
   "outputs": [
    {
     "name": "stdout",
     "output_type": "stream",
     "text": [
      "\n",
      "Número total de letras del alfabeto en este String :   8\n",
      "Número total de dígitos en este String:   2\n",
      "Número total de carácteres especiales en este String :   6\n"
     ]
    }
   ],
   "source": [
    "string = \"&#Pr@j3ctE#D4M#&\"\n",
    "alphabets = digits = special = 0\n",
    "\n",
    "for i in range(len(string)):\n",
    "    if(string[i].isalpha()):\n",
    "        alphabets = alphabets + 1\n",
    "    elif(string[i].isdigit()):\n",
    "        digits = digits + 1\n",
    "    else:\n",
    "        special = special + 1\n",
    "        \n",
    "print(\"\\nNúmero total de letras del alfabeto en este String :  \", alphabets)\n",
    "print(\"Número total de dígitos en este String:  \", digits)\n",
    "print(\"Número total de carácteres especiales en este String :  \", special)"
   ]
  },
  {
   "cell_type": "markdown",
   "id": "e223d1d2",
   "metadata": {},
   "source": [
    "# EJEMPLOS"
   ]
  },
  {
   "cell_type": "code",
   "execution_count": 5,
   "id": "1d0278c2",
   "metadata": {},
   "outputs": [
    {
     "data": {
      "text/plain": [
       "8"
      ]
     },
     "execution_count": 5,
     "metadata": {},
     "output_type": "execute_result"
    }
   ],
   "source": [
    "a=3\n",
    "b=5\n",
    "a+b"
   ]
  },
  {
   "cell_type": "code",
   "execution_count": 6,
   "id": "ab21eae5",
   "metadata": {},
   "outputs": [
    {
     "data": {
      "text/plain": [
       "6.720000000000001"
      ]
     },
     "execution_count": 6,
     "metadata": {},
     "output_type": "execute_result"
    }
   ],
   "source": [
    "x=3.2\n",
    "y=2.1\n",
    "x*y"
   ]
  },
  {
   "cell_type": "code",
   "execution_count": 11,
   "id": "a6749156",
   "metadata": {},
   "outputs": [
    {
     "data": {
      "text/plain": [
       "'Paulino Giron'"
      ]
     },
     "execution_count": 11,
     "metadata": {},
     "output_type": "execute_result"
    }
   ],
   "source": [
    "nom='Paulino '\n",
    "cognom='Giron'\n",
    "nom_complet=nom + cognom\n",
    "\n",
    "nom_complet"
   ]
  },
  {
   "cell_type": "code",
   "execution_count": 12,
   "id": "419f9163",
   "metadata": {},
   "outputs": [
    {
     "data": {
      "text/plain": [
       "[1, 2, 2, 3, 3]"
      ]
     },
     "execution_count": 12,
     "metadata": {},
     "output_type": "execute_result"
    }
   ],
   "source": [
    "vector =[1,2,2,3,3]\n",
    "vector"
   ]
  },
  {
   "cell_type": "code",
   "execution_count": 14,
   "id": "006a34ae",
   "metadata": {},
   "outputs": [
    {
     "data": {
      "text/plain": [
       "[[1, 3, 2, 1], [7, 8, 5, 4], [5, 8, 7, 1]]"
      ]
     },
     "execution_count": 14,
     "metadata": {},
     "output_type": "execute_result"
    }
   ],
   "source": [
    "matriu=[[1,3,2,1,],[7,8,5,4,],[5,8,7,1]]\n",
    "matriu"
   ]
  },
  {
   "cell_type": "code",
   "execution_count": 16,
   "id": "8076ed6c",
   "metadata": {},
   "outputs": [
    {
     "name": "stdout",
     "output_type": "stream",
     "text": [
      "1,2,3,4,5,6,7,8,9,10,11,"
     ]
    }
   ],
   "source": [
    "for i in range (1,12):\n",
    "    print (i, end=',')\n"
   ]
  },
  {
   "cell_type": "code",
   "execution_count": 18,
   "id": "1a2c5e1b",
   "metadata": {},
   "outputs": [
    {
     "name": "stdout",
     "output_type": "stream",
     "text": [
      "1,2,3,4,5,6,7,8,9,10,"
     ]
    }
   ],
   "source": [
    "i=0\n",
    "while (i <= 9):\n",
    "    i +=1\n",
    "    print (i, end=',')"
   ]
  }
 ],
 "metadata": {
  "kernelspec": {
   "display_name": "Python 3 (ipykernel)",
   "language": "python",
   "name": "python3"
  },
  "language_info": {
   "codemirror_mode": {
    "name": "ipython",
    "version": 3
   },
   "file_extension": ".py",
   "mimetype": "text/x-python",
   "name": "python",
   "nbconvert_exporter": "python",
   "pygments_lexer": "ipython3",
   "version": "3.9.12"
  }
 },
 "nbformat": 4,
 "nbformat_minor": 5
}
